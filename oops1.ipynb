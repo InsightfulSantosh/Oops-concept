{
 "cells": [
  {
   "cell_type": "code",
   "execution_count": 1,
   "id": "c6d35368-3078-4acb-8f51-fbe7d8338c13",
   "metadata": {},
   "outputs": [],
   "source": [
    "h=\"how are you\""
   ]
  }
 ],
 "metadata": {
  "kernelspec": {
   "display_name": "Python 3 (ipykernel)",
   "language": "python",
   "name": "python3"
  },
  "language_info": {
   "codemirror_mode": {
    "name": "ipython",
    "version": 3
   },
   "file_extension": ".py",
   "mimetype": "text/x-python",
   "name": "python",
   "nbconvert_exporter": "python",
   "pygments_lexer": "ipython3",
   "version": "3.12.4"
  }
 },
 "nbformat": 4,
 "nbformat_minor": 5
}
